{
 "cells": [
  {
   "cell_type": "markdown",
   "id": "b4464b2a",
   "metadata": {},
   "source": [
    "**Q1.\tWhat is the concept of human learning? Please give two examples.**\n",
    "\n",
    "Ans:- Human learning :- first observing , find out pattern and make a theory to explain pattern and testing it .\n",
    "Eg: - Driving a car , Learning Music etc\n",
    "*************************************************************************************************************************"
   ]
  },
  {
   "cell_type": "markdown",
   "id": "a0e06d95",
   "metadata": {},
   "source": [
    "**Q2. What different forms of human learning are there? Are there any machine learning equivalents?**\n",
    "\n",
    "Ans:- \n",
    "There are many different forms of human learning, but some of the most common include:\n",
    "\n",
    "Implicit learning: This is a type of learning that occurs without conscious awareness. For example, you might learn to tie your shoes without ever having to think about the steps involved.\n",
    "\n",
    "Explicit learning: This is a type of learning that occurs with conscious awareness. For example, you might learn to play a musical instrument by reading a book or taking lessons.\n",
    "\n",
    "Inductive learning: This is a type of learning that involves drawing general rules from specific examples. For example, you might learn that all dogs bark by observing a number of different dogs barking.\n",
    "\n",
    "Deductive learning: This is a type of learning that involves applying general rules to specific examples. For example, you might use the rule \"All dogs bark\" to deduce that a particular dog will bark.\n",
    "\n",
    "Social learning: This is a type of learning that occurs through observation and imitation of others. For example, you might learn how to cook by watching your parents or other family members cook.\n",
    "\n",
    "There are also some machine learning equivalents to these different forms of human learning. For example, implicit learning is similar to unsupervised machine learning, explicit learning is similar to supervised machine learning, inductive learning is similar to decision tree learning, and deductive learning is similar to rule-based learning.\n",
    "\n",
    "However, it is important to note that there are some important differences between human learning and machine learning. For example, humans are able to learn from a wider variety of sources than machines, and they are also able to learn in a more flexible and adaptive way. Additionally, humans are able to learn from their mistakes, while machines often need to be explicitly programmed to do so.\n",
    "\n",
    "Overall, there are many similarities between human learning and machine learning, but there are also some important differences. Machine learning algorithms aim to replicate some aspects of human learning but often utilize different mathematical and computational approaches\n",
    "*************************************************************************************************************************"
   ]
  },
  {
   "cell_type": "markdown",
   "id": "d2dd08bc",
   "metadata": {},
   "source": [
    "**Q3. What is machine learning, and how does it work? What are the key responsibilities of machine learning?**\n",
    "\n",
    "Ans:-Machine Learning is a subset of AI(Artificial Intelligence). It has provided data statistics tools to build intelligent computer systems that can learn from available databases.\n",
    "\n",
    "Here's a simplified overview of how machine learning works:\n",
    "\n",
    "Data Collection: The first step in machine learning involves collecting relevant and representative data that is necessary to train the machine learning model. This data may include various features or attributes that describe the problem or domain of interest.\n",
    "\n",
    "Data Preprocessing: Once the data is collected, it needs to be preprocessed to ensure its quality, consistency, and suitability for training. This may involve steps such as cleaning the data (removing duplicates, handling missing values), transforming or normalizing the data, and splitting the data into training and testing sets.\n",
    "\n",
    "Model Training: In this step, the machine learning model is trained using the preprocessed data. The model learns the underlying patterns and relationships between the input features and the target variable by adjusting its internal parameters. The specific algorithm used for training depends on the problem and the type of learning (e.g., supervised, unsupervised, reinforcement learning).\n",
    "\n",
    "Model Evaluation: After training, the model's performance is evaluated using the testing dataset. Various metrics are used to assess how well the model generalizes to new, unseen data. The evaluation helps determine if the model is accurate and reliable enough for the intended task.\n",
    "\n",
    "Model Deployment and Prediction: If the model passes the evaluation, it can be deployed to make predictions or decisions on new, real-world data. The model takes input data, processes it using the learned patterns, and produces output predictions or classifications.\n",
    "\n",
    "Key Responsibilities of Machine Learning:\n",
    "\n",
    "Data Preparation: Machine learning requires high-quality and properly formatted data for training. Preparing and preprocessing the data, including cleaning, transforming, and splitting it, is a crucial responsibility.\n",
    "\n",
    "Algorithm Selection and Model Development: Choosing the appropriate machine learning algorithm and developing the model architecture are important responsibilities. Different algorithms are suited for different types of problems (classification, regression, clustering, etc.), and selecting the right one can significantly impact the model's performance.\n",
    "\n",
    "Training and Evaluation: Training the machine learning model involves feeding it with the prepared data and optimizing its parameters. Evaluation is essential to assess the model's performance, accuracy, and generalization capabilities. Adjustments and improvements may be made based on the evaluation results.\n",
    "\n",
    "Feature Engineering: Feature engineering involves selecting or creating relevant features from the available data that contribute to the model's predictive power. This responsibility requires domain knowledge and an understanding of the problem to extract meaningful information.\n",
    "\n",
    "Model Deployment and Monitoring: Deploying the trained model in a production environment and monitoring its performance over time is another key responsibility. Monitoring helps ensure that the model continues to provide accurate and reliable predictions and allows for necessary updates or retraining when required.\n",
    "\n",
    "Ethical Considerations: Machine learning practitioners have a responsibility to consider and mitigate ethical concerns related to bias, fairness, privacy, and transparency. They need to be mindful of the potential impact of their models on individuals and society as a whole.\n",
    "\n",
    "These responsibilities require expertise in machine learning algorithms, programming languages, data manipulation, and domain knowledge to effectively develop, train, evaluate, and deploy machine learning models.\n",
    "\n",
    "*************************************************************************************************************************"
   ]
  },
  {
   "cell_type": "markdown",
   "id": "5b999890",
   "metadata": {},
   "source": [
    "**Q4. Define the terms \"penalty\" and \"reward\" in the context of reinforcement learning.**\n",
    "\n",
    "Ans:-In the context of reinforcement learning, \"penalty\" and \"reward\" are fundamental terms used to provide feedback to an agent based on its actions and influence its learning process.\n",
    "\n",
    "Penalty: In reinforcement learning, a penalty is a negative value that is given to an agent when it takes an action that leads to an undesired outcome\n",
    "\n",
    "Reward: A reward is a positive value that is given to an agent when it takes an action that leads to a desired outcome.\n",
    "\n",
    "for example:- In a self-driving car, a penalty might be given to the car when it hits another car. A reward might be given to the car when it safely navigates through traffic.\n",
    "*************************************************************************************************************************"
   ]
  },
  {
   "cell_type": "markdown",
   "id": "e1fcef0d",
   "metadata": {},
   "source": [
    "**Q5. Explain the term \"learning as a search\"?**\n",
    "\n",
    "Ans:- The term \"learning as a search\" refers to the view of machine learning as a search problem. In this view, the goal of learning is to find a hypothesis that best fits the training data. The hypothesis space is the set of all possible hypotheses, and the search algorithm is the process of finding the best hypothesis in the hypothesis space.\n",
    "\n",
    "The search algorithm can be any algorithm that can search a large space of possibilities. Some common search algorithms include hill climbing, beam search, and genetic algorithms. The choice of search algorithm depends on the specific learning problem.\n",
    "\n",
    "Some examples of the term \"learning as a search\" can be applied to different machine learning algorithms:\n",
    "\n",
    "Decision tree learning: In decision tree learning, the search algorithm starts with a root node and then recursively splits the data into smaller and smaller subsets. The splitting continues until the data is pure, or until no further splitting is possible. The final decision tree is a hypothesis that can be used to predict the class of new data points.\n",
    "\n",
    "Rule learning: In rule learning, the search algorithm starts with a set of initial rules and then iteratively adds new rules to the set. The new rules are added based on the training data. The final rule set is a hypothesis that can be used to predict the class of new data points.\n",
    "\n",
    "Neural network learning: In neural network learning, the search algorithm starts with a randomly initialized neural network and then iteratively updates the weights of the neural network. The updates are made based on the training data. The final neural network is a hypothesis that can be used to predict the class of new data points.\n",
    "\n",
    "*************************************************************************************************************************"
   ]
  },
  {
   "cell_type": "markdown",
   "id": "7b6bdad2",
   "metadata": {},
   "source": [
    "**Q6. What are the various goals of machine learning? What is the relationship between these and human learning?**\n",
    "\n",
    "Ans:- Machine learning encompasses various goals depending on the specific problem and context. Some of the common goals of machine learning include:\n",
    "\n",
    "Prediction: Machine learning aims to build models that can make accurate predictions or forecasts based on input data. \n",
    "\n",
    "Classification: Machine learning seeks to classify or categorize data into different classes or groups based on their features or attributes. \n",
    "\n",
    "Clustering: Clustering is the process of grouping similar instances together based on their inherent similarities or patterns in the data.\n",
    "\n",
    "Anomaly Detection: Anomaly detection focuses on identifying unusual or anomalous instances in a dataset that deviate from the expected patterns. Machine learning algorithms learn to distinguish normal behavior from abnormal or outlier behavior. \n",
    "\n",
    "Recommendation: Machine learning aims to provide personalized recommendations or suggestions based on user preferences, behaviors, or historical data. Recommendation systems learn from user feedback and patterns to make relevant and targeted recommendations.\n",
    "\n",
    "The relationship between machine learning and human learning lies in their shared goals of acquiring knowledge, making predictions, identifying patterns, and organizing information. Both processes involve the extraction of useful insights from data or experiences to inform decision-making, understand the world, and improve performance. Machine learning algorithms attempt to mimic or replicate certain aspects of human learning, such as pattern recognition, generalization, and adaptation, albeit with different computational mechanisms and limitations. By studying human learning processes, machine learning can gain insights and inspiration for developing more effective algorithms, while machine learning advancements can also provide new perspectives and tools for understanding and enhancing human learning.\n",
    "*************************************************************************************************************************"
   ]
  },
  {
   "cell_type": "markdown",
   "id": "3a55e967",
   "metadata": {},
   "source": [
    "**Q7. Illustrate the various elements of machine learning using a real-life illustration.**\n",
    "\n",
    "Ans:- The various elements of machine learning involved:\n",
    "\n",
    "Data Collection: The first step in machine learning involves collecting relevant and representative data that is necessary to train the machine learning model. This data may include various features or attributes that describe the problem or domain of interest.\n",
    "\n",
    "Data Preprocessing: Once the data is collected, it needs to be preprocessed to ensure its quality, consistency, and suitability for training. This may involve steps such as cleaning the data (removing duplicates, handling missing values), transforming or normalizing the data, and splitting the data into training and testing sets.\n",
    "\n",
    "Model Training: In this step, the machine learning model is trained using the preprocessed data. The model learns the underlying patterns and relationships between the input features and the target variable by adjusting its internal parameters. The specific algorithm used for training depends on the problem and the type of learning (e.g., supervised, unsupervised, reinforcement learning).\n",
    "\n",
    "Model Evaluation: After training, the model's performance is evaluated using the testing dataset. Various metrics are used to assess how well the model generalizes to new, unseen data. The evaluation helps determine if the model is accurate and reliable enough for the intended task.\n",
    "\n",
    "Model Deployment and Prediction: If the model passes the evaluation, it can be deployed to make predictions or decisions on new, real-world data. The model takes input data, processes it using the learned patterns, and produces output predictions or classifications.\n",
    "\n",
    "Continuous Learning and Improvement: Machine learning is an iterative process. The model's performance can be continuously monitored, and if necessary, the model can be retrained using new data or updated with new techniques to improve its accuracy or handle new challenges.\n",
    "\n",
    "For Example :- A company wants to use machine learning to predict customer churn. The company has a large dataset of customer data, including customer demographics, purchase history, and social media activity. The company trains a machine learning model on this data using a decision tree algorithm. The model is then evaluated on a holdout dataset, and its performance is deemed to be acceptable. The model is then deployed in a production environment, where it is used to make predictions on new customer data\n",
    "*************************************************************************************************************************"
   ]
  },
  {
   "cell_type": "markdown",
   "id": "5153377a",
   "metadata": {},
   "source": [
    "**Q8. Provide an example of the abstraction method.**\n",
    "\n",
    "Ans:- Abstraction is a fundamental concept in computer science and refers to the process of simplifying complex systems or phenomena by focusing on the essential features while ignoring unnecessary details. It involves creating a higher-level representation or model that captures the important aspects of a system\n",
    "\n"
   ]
  },
  {
   "cell_type": "code",
   "execution_count": 1,
   "id": "035be915",
   "metadata": {},
   "outputs": [],
   "source": [
    "class Car:\n",
    "    def __init__(self, speed=0, position=(0, 0), handling=1.0):\n",
    "        self.speed = speed\n",
    "        self.position = position\n",
    "        self.handling = handling\n",
    "    \n",
    "    def accelerate(self, amount):\n",
    "        self.speed += amount\n",
    "    \n",
    "    def brake(self, amount):\n",
    "        self.speed -= amount\n",
    "    \n",
    "    def turn(self, angle):\n",
    "        # Update the car's heading based on the turning angle\n",
    "        # This is a simplified implementation for illustration purposes\n",
    "        # You can replace this with more sophisticated turning logic as per your requirements\n",
    "        self.position = (self.position[0] + self.speed * angle, self.position[1])\n",
    "    \n",
    "    def update_position(self, time):\n",
    "        # Update the car's position based on its speed and elapsed time\n",
    "        self.position = (self.position[0] + self.speed * time, self.position[1])\n",
    "    \n",
    "    def display_position(self):\n",
    "        print(f\"Current position: {self.position}\")\n"
   ]
  },
  {
   "cell_type": "code",
   "execution_count": 2,
   "id": "5760e5b5",
   "metadata": {},
   "outputs": [
    {
     "name": "stdout",
     "output_type": "stream",
     "text": [
      "Current position: (40, 0)\n",
      "Current position: (1610, 5)\n"
     ]
    }
   ],
   "source": [
    "# Create car objects\n",
    "car1 = Car()\n",
    "car2 = Car(speed=50, position=(10, 5))\n",
    "\n",
    "# Accelerate car1\n",
    "car1.accelerate(20)\n",
    "\n",
    "# Turn car2\n",
    "car2.turn(30)\n",
    "\n",
    "# Update positions\n",
    "car1.update_position(2)\n",
    "car2.update_position(2)\n",
    "\n",
    "# Display positions\n",
    "car1.display_position()\n",
    "car2.display_position()\n"
   ]
  },
  {
   "cell_type": "markdown",
   "id": "be2c5f56",
   "metadata": {},
   "source": [
    "*************************************************************************************************************************"
   ]
  },
  {
   "cell_type": "markdown",
   "id": "17481313",
   "metadata": {},
   "source": [
    "**Q9. What is the concept of generalization? What function does it play in the machine learning process?**\n",
    "\n",
    "Ans:- Generalization refers to the ability of a model to make accurate predictions on new data that was not used to train the model. This is a critical goal in machine learning, as it allows models to be used in real-world applications.\n",
    "\n",
    "Generalization plays a crucial role in the machine learning process for several reasons:\n",
    "\n",
    "Performance on Unseen Data: The ultimate goal of machine learning is to build models that can generalize well to unseen data. The model should not simply memorize the training data but should learn the underlying patterns and generalize that knowledge to make accurate predictions or decisions on new, unseen instances. Generalization ensures that the model's performance extends beyond the training data and is applicable to real-world scenarios.\n",
    "\n",
    "Overcoming Noise and Variability: Training data often contains noise, inconsistencies, or variations that may not be representative of the entire population. Generalization helps the model to filter out irrelevant or noisy features and focus on the essential patterns that are more likely to hold true for new instances. It enables the model to make robust predictions by effectively handling variations and accommodating diverse inputs.\n",
    "\n",
    "Avoiding Overfitting: Overfitting is a common challenge in machine learning, where a model becomes overly specialized and performs well on the training data but fails to generalize to new data. Generalization acts as a countermeasure to overfitting by encouraging the model to find the most relevant and reliable patterns in the data while avoiding the inclusion of noise or irrelevant details. It helps strike a balance between capturing the important information in the data and avoiding over-reliance on idiosyncrasies specific to the training set.\n",
    "\n",
    "Sample Efficiency: Generalization allows machine learning models to learn from limited amounts of data and still make accurate predictions or decisions. Instead of requiring an exhaustive representation of all possible instances, the model can generalize from a relatively small number of training examples and apply that knowledge to unseen instances. This makes the learning process more efficient and enables the model to perform well even with limited available data.\n",
    "\n",
    "To achieve good generalization, machine learning algorithms employ techniques such as regularization, cross-validation, and model selection. These techniques aim to prevent overfitting, assess the model's performance on unseen data, and choose the best model that balances complexity and generalization ability.\n",
    "\n",
    "*************************************************************************************************************************"
   ]
  },
  {
   "cell_type": "markdown",
   "id": "b34eb1b2",
   "metadata": {},
   "source": [
    "**Q10.What is classification, exactly? What are the main distinctions between classification and regression?**\n",
    "\n",
    "Ans:-  Classification is a type of machine learning task that involves predicting a discrete class label for a given input,In classification our output is 0 or 1.\n",
    "\n",
    "The main distinction between classification and regression is that classification models predict discrete class labels, while regression models predict continuous values. This means that classification models can only predict a finite number of possible outcomes, while regression models can predict any value on a continuous scale.\n",
    "\n",
    "Here are some examples of how classification and regression are used in machine learning:\n",
    "\n",
    "Classification: Spam filtering,Medical diagnosis,Image classification,Text classification\n",
    "\n",
    "Regression:Predicting house prices, Predicting stock prices, Predicting customer churn, Predicting demand for products\n",
    "*************************************************************************************************************************"
   ]
  },
  {
   "cell_type": "markdown",
   "id": "e88b7ec7",
   "metadata": {},
   "source": [
    "**Q11. What is regression, and how does it work? Give an example of a real-world problem that was solved using regression.**\n",
    "\n",
    "**Ans**:- Regression is a type of machine learning task that involves predicting a continuous value for a given input.Regression models are typically trained on a dataset that includes both the input data and the desired output values. The model then learns to predict the output values based on the input data. \n",
    "\n",
    "Here's an example of a real-world problem that was solved using regression:\n",
    "\n",
    "Suppose a car manufacturer wants to determine the relationship between the price of a car and its various features, such as engine size, horsepower, mileage, and age. They collect data on a sample of cars, recording the prices and corresponding values of these features. By using regression analysis, they can develop a pricing model that estimates the price of a car based on its characteristics.\n",
    "\n",
    "They may use multiple regression analysis to account for the influence of multiple independent variables simultaneously. The resulting regression equation can be used to predict the price of a car given its engine size, horsepower, mileage, and age. This information can help the car manufacturer in setting competitive prices for their vehicles, understanding the impact of each feature on the price, and making informed business decisions.\n",
    "*************************************************************************************************************************"
   ]
  },
  {
   "cell_type": "markdown",
   "id": "7f4ebde1",
   "metadata": {},
   "source": [
    "**Q12. Describe the clustering mechanism in detail.**\n",
    "\n",
    "Ans:-  Clustering is a type of unsupervised machine learning that involves grouping data points together based on their similarity. Clustering algorithms do not require any labeled data, which means that they can be used to find patterns in data that would be difficult or impossible to find using supervised machine learning algorithms.\n",
    "\n",
    "The clustering mechanism involves several steps:\n",
    "\n",
    "Selection of Clustering Algorithm: The first step is to choose an appropriate clustering algorithm based on the nature of the data and the problem at hand. There are various clustering algorithms available, including K-means, hierarchical clustering, DBSCAN (Density-Based Spatial Clustering of Applications with Noise), and more. Each algorithm has its own assumptions and properties, which may make it suitable for specific scenarios.\n",
    "\n",
    "Data Preparation: Before applying clustering, the data often needs to be preprocessed. This may involve cleaning the data by handling missing values, removing outliers, or normalizing the features to ensure that they are on a similar scale. Data preprocessing helps in improving the accuracy and effectiveness of the clustering process.\n",
    "\n",
    "Feature Selection/Extraction: In some cases, it may be beneficial to select or extract relevant features from the dataset to focus on the most informative aspects of the data. This step can help in reducing the dimensionality of the data and improving the clustering results.\n",
    "\n",
    "Choosing the Number of Clusters: In many clustering algorithms, the number of clusters needs to be specified in advance. However, determining the optimal number of clusters can be challenging. Different techniques, such as the elbow method or silhouette analysis, can be employed to estimate the appropriate number of clusters based on the characteristics of the data.\n",
    "\n",
    "Cluster Initialization: Depending on the algorithm, the clusters may be initialized randomly or using some predefined criteria. For example, in K-means clustering, initial cluster centroids are randomly assigned or selected from the data points.\n",
    "\n",
    "Iterative Clustering Process: The algorithm iteratively assigns data points to clusters based on their similarity and updates the cluster assignments until convergence is reached. The similarity or distance measure between data points is a crucial aspect of clustering. Common distance measures include Euclidean distance, Manhattan distance, or cosine similarity.\n",
    "\n",
    "Cluster Evaluation and Refinement: Once the clustering process is completed, it is important to evaluate the quality of the obtained clusters. Various metrics can be used, such as silhouette score, cohesion, separation, or purity, depending on the availability of ground truth labels. If the clustering results are not satisfactory, the process can be refined by adjusting parameters or selecting a different algorithm.\n",
    "\n",
    "Interpreting and Visualizing the Clusters: After obtaining the clusters, it is essential to interpret and understand the meaning behind each cluster. Visualization techniques, such as scatter plots or dimensionality reduction methods like PCA (Principal Component Analysis), can help in visualizing the clusters and gaining insights from the data.\n",
    "*************************************************************************************************************************"
   ]
  },
  {
   "cell_type": "markdown",
   "id": "e455267a",
   "metadata": {},
   "source": [
    "**Q13. Make brief observations of the following topics:\n",
    "i. Machine learning algorithms are used\n",
    "ii. Studying under supervision\n",
    "iii. Studying without supervision\n",
    "iv. Reinforcement learning is a form of learning based on positive reinforcement.**\n",
    "\n",
    "Ans:- **i. Machine learning algorithms are used :**\n",
    "Machine learning algorithms are instrumental in solving complex problems by automatically learning patterns and relationships from data. These algorithms are designed to analyze large amounts of data and identify patterns that humans may not easily discern. Machine learning algorithms can be categorized into supervised, unsupervised, and reinforcement learning methods. These algorithms play a crucial role in various applications, such as image and speech recognition, natural language processing, recommendation systems, and predictive analytics. They enable the development of intelligent systems that can make accurate predictions, classify data, cluster similar instances, and make informed decisions based on learned patterns.\n",
    "\n",
    "\n",
    "**ii. Studying under supervision:**\n",
    "Studying under supervision refers to the learning process where an individual receives guidance, instruction, and feedback from an expert or a more knowledgeable person. This form of learning is commonly observed in educational settings, mentorship programs, or apprenticeships. The supervisor provides structured learning materials, assigns tasks, sets goals, and evaluates the progress of the learner. The benefits of studying under supervision include personalized guidance, immediate feedback, and the opportunity to ask questions and seek clarification. It allows learners to acquire knowledge and skills in a systematic manner while receiving support and assistance to overcome challenges. This form of learning is effective in ensuring comprehension, skill development, and the acquisition of domain-specific expertise.\n",
    "\n",
    "**iii. Studying without supervision:**\n",
    "Studying without supervision, also known as self-directed learning or independent learning, involves individuals taking responsibility for their own learning without direct guidance or supervision from an instructor. This approach empowers learners to set their own goals, identify learning resources, and determine the pace and style of their learning. Studying without supervision encourages self-motivation, autonomy, critical thinking, and problem-solving skills. It requires individuals to manage their time effectively, be proactive in seeking resources, and evaluate their own progress. Self-directed learning is common in online courses, self-study programs, and informal learning contexts. It allows individuals to explore their own interests, tailor their learning to their specific needs, and develop lifelong learning skills.\n",
    "\n",
    "**iv. Reinforcement learning is a form of learning based on positive reinforcement:**\n",
    "Reinforcement learning is a machine learning paradigm where an agent learns to make decisions or take actions in an environment to maximize a cumulative reward signal. In reinforcement learning, the agent interacts with the environment, and based on the feedback received in the form of rewards or penalties, it learns to navigate and optimize its behavior. Positive reinforcement, in the context of reinforcement learning, refers to receiving rewards for desirable actions or decisions. The agent learns to associate certain actions with positive outcomes and adjusts its behavior accordingly. Through trial and error, the agent explores different actions and learns from the consequences. Reinforcement learning has been successfully applied in various domains, including robotics, game playing, autonomous vehicles, and optimizing complex systems. By incorporating positive reinforcement, the agent can learn effective strategies and policies that lead to desirable outcomes.\n",
    "\n",
    "*************************************************************************************************************************"
   ]
  }
 ],
 "metadata": {
  "kernelspec": {
   "display_name": "Python 3 (ipykernel)",
   "language": "python",
   "name": "python3"
  },
  "language_info": {
   "codemirror_mode": {
    "name": "ipython",
    "version": 3
   },
   "file_extension": ".py",
   "mimetype": "text/x-python",
   "name": "python",
   "nbconvert_exporter": "python",
   "pygments_lexer": "ipython3",
   "version": "3.10.9"
  }
 },
 "nbformat": 4,
 "nbformat_minor": 5
}
